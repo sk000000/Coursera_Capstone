{
 "cells": [
  {
   "cell_type": "markdown",
   "metadata": {},
   "source": [
    "Week 4"
   ]
  },
  {
   "cell_type": "markdown",
   "metadata": {},
   "source": [
    "Introduction\n",
    "New York City has a population of over 8 million across five boroughs. The aim of this project is to determine which neighbourhood(s) across the entire city would be a suitable place for someone looking to set up a coffee shop in New York. Anyone interested in opening up a coffee shop somewhere in New York would benefit from this project as it will give them an idea of the current distribution of coffee shops all over the city, and recommend in which neighbourhoods they should consider opening their coffee shop in order to be more successful.\n"
   ]
  },
  {
   "cell_type": "markdown",
   "metadata": {},
   "source": [
    "Data\n",
    "The data used in this project will be Foursquare location data for New York, including the names of all of the Neighbourhoods, their latitude and longitude, the names of all the venues, venue latitude and longitude, and venue category. These can be written into a dataframe which will be used to eventually solve the overall problem of this project and plot a map showing the distribution of coffee shops as they stand currently, and guide the user on where they should consider opening their coffee shop.\n"
   ]
  }
 ],
 "metadata": {
  "kernelspec": {
   "display_name": "Python",
   "language": "python",
   "name": "conda-env-python-py"
  },
  "language_info": {
   "codemirror_mode": {
    "name": "ipython",
    "version": 3
   },
   "file_extension": ".py",
   "mimetype": "text/x-python",
   "name": "python",
   "nbconvert_exporter": "python",
   "pygments_lexer": "ipython3",
   "version": "3.6.10"
  }
 },
 "nbformat": 4,
 "nbformat_minor": 4
}
