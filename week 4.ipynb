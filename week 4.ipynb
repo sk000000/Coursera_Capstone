{
 "cells": [
  {
   "cell_type": "markdown",
   "metadata": {},
   "source": [
    "Week 4"
   ]
  },
  {
   "cell_type": "markdown",
   "metadata": {},
   "source": [
    "Introduction\n",
    "New York City has a population of over 8 million across five boroughs. The aim of this project is to determine which neighbourhood(s) across the entire city would be a suitable place for someone looking to set up a coffee shop in New York. Anyone interested in opening up a coffee shop somewhere in New York would benefit from this project as it will give them an idea of the current distribution of coffee shops all over the city, and recommend in which neighbourhoods they should consider opening their coffee shop in order to be more successful.\n"
   ]
  },
  {
   "cell_type": "markdown",
   "metadata": {},
   "source": []
  }
 ],
 "metadata": {
  "kernelspec": {
   "display_name": "Python",
   "language": "python",
   "name": "conda-env-python-py"
  },
  "language_info": {
   "codemirror_mode": {
    "name": "ipython",
    "version": 3
   },
   "file_extension": ".py",
   "mimetype": "text/x-python",
   "name": "python",
   "nbconvert_exporter": "python",
   "pygments_lexer": "ipython3",
   "version": "3.6.10"
  }
 },
 "nbformat": 4,
 "nbformat_minor": 4
}
